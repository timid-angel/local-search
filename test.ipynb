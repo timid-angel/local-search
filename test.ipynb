{
 "cells": [
  {
   "cell_type": "code",
   "execution_count": null,
   "metadata": {},
   "outputs": [],
   "source": [
    "import matplotlib.pyplot as plt\n",
    "algorithms = [\"Genetic Algorithm\", \"Hill Climbing\", \"Simulated Annealing\"]\n",
    "\n",
    "def set_bar_color(bar):\n",
    "    bar[0].set_color(\"#1DFE0F\")\n",
    "    bar[1].set_color(\"#0FD3EA\")\n",
    "    bar[2].set_color(\"#B70A0A\") "
   ]
  },
  {
   "cell_type": "markdown",
   "metadata": {},
   "source": [
    "# Knapsack Problem"
   ]
  },
  {
   "cell_type": "code",
   "execution_count": null,
   "metadata": {},
   "outputs": [],
   "source": [
    "from knapsack.knapsack_tests import knapsack_10, knapsack_15, knapsack_20\n",
    "\n",
    "results = [knapsack_10, knapsack_15, knapsack_20]\n",
    "item_count = [10, 15, 20]\n",
    "\n",
    "for i in range(3):\n",
    "    curr_result = results[i]\n",
    "    curr_count = item_count[i]\n",
    "\n",
    "    time = {}\n",
    "    values = {}\n",
    "    for key in curr_result:\n",
    "        time[key] = sum(curr_result[key][0]) / len(curr_result[key][0]) * 1000\n",
    "        values[key] = sum(curr_result[key][1]) / len(curr_result[key][1])\n",
    "\n",
    "    x = [time[algorithms[0]], time[algorithms[1]], time[algorithms[2]]]\n",
    "    y = [values[algorithms[0]], values[algorithms[1]], values[algorithms[2]]]\n",
    "\n",
    "    plt.title(f\"Time Taken for Knapsack Problem with {curr_count} Items - Average of 10 Tests\")\n",
    "    plt.xlabel(\"Tested Algorithms\")\n",
    "    plt.ylabel(\"Time Taken in Milliseconds (ms)\")\n",
    "    bar = plt.bar(algorithms, x, width=0.4)\n",
    "    set_bar_color(bar)\n",
    "    plt.show()\n",
    "\n",
    "    plt.title(f\"Average Answer for Knapsack Problem with {curr_count} Items - Average of 10 Tests\")\n",
    "    plt.xlabel(\"Tested Algorithms\")\n",
    "    plt.ylabel(\"Weight of Best Answer - average of 10 tests\")\n",
    "    bar = plt.bar(algorithms,  y, width=0.4)\n",
    "    set_bar_color(bar)\n",
    "    plt.show()"
   ]
  },
  {
   "cell_type": "markdown",
   "metadata": {},
   "source": [
    "# Travelling Salesperson Problem"
   ]
  },
  {
   "cell_type": "code",
   "execution_count": null,
   "metadata": {},
   "outputs": [],
   "source": [
    "from tsp.tsp_tests import tsp_8, tsp_16, tsp_20, graph_8, graph_16, graph_20\n",
    "\n",
    "graph_8[\"Genetic Algorithm\"].printGraph()\n",
    "graph_16[\"Genetic Algorithm\"].printGraph()\n",
    "graph_20[\"Genetic Algorithm\"].printGraph()\n",
    "\n",
    "\n",
    "results = [tsp_8, tsp_16, tsp_20]\n",
    "item_count = [8, 16, 20]\n",
    "\n",
    "for i in range(3):\n",
    "    curr_result = results[i]\n",
    "    curr_count = item_count[i]\n",
    "\n",
    "    time = {}\n",
    "    values = {}\n",
    "    for key in curr_result:\n",
    "        time[key] = sum(curr_result[key][0]) / len(curr_result[key][0]) * 1000\n",
    "        values[key] = sum(curr_result[key][1]) / len(curr_result[key][1])\n",
    "\n",
    "    x = [time[algorithms[0]], time[algorithms[1]], time[algorithms[2]]]\n",
    "    y = [values[algorithms[0]], values[algorithms[1]], values[algorithms[2]]]\n",
    "\n",
    "    plt.title(f\"Time Taken for TSP with {curr_count} Cities - Average of 10 Tests\")\n",
    "    plt.xlabel(\"Tested Algorithms\")\n",
    "    plt.ylabel(\"Time Taken in Milliseconds (ms)\")\n",
    "    bar = plt.bar(algorithms, x, width=0.4)\n",
    "    set_bar_color(bar)\n",
    "    plt.show()\n",
    "\n",
    "    plt.title(f\"Average Answer for TSP with {curr_count} Cities - Average of 10 Tests\")\n",
    "    plt.xlabel(\"Tested Algorithms\")\n",
    "    plt.ylabel(\"Distance of Best Path\")\n",
    "    bar = plt.bar(algorithms,  y, width=0.4)\n",
    "    set_bar_color(bar)\n",
    "    plt.show()"
   ]
  }
 ],
 "metadata": {
  "kernelspec": {
   "display_name": "Python 3",
   "language": "python",
   "name": "python3"
  },
  "language_info": {
   "codemirror_mode": {
    "name": "ipython",
    "version": 3
   },
   "file_extension": ".py",
   "mimetype": "text/x-python",
   "name": "python",
   "nbconvert_exporter": "python",
   "pygments_lexer": "ipython3",
   "version": "3.11.8"
  }
 },
 "nbformat": 4,
 "nbformat_minor": 2
}
